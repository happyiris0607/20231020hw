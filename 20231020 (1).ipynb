{
  "nbformat": 4,
  "nbformat_minor": 0,
  "metadata": {
    "colab": {
      "provenance": []
    },
    "kernelspec": {
      "name": "python3",
      "display_name": "Python 3"
    },
    "language_info": {
      "name": "python"
    }
  },
  "cells": [
    {
      "cell_type": "code",
      "execution_count": null,
      "metadata": {
        "id": "dIiFcNWlBLX7"
      },
      "outputs": [],
      "source": [
        "num_str=input(\"請輸入數字:\")\n",
        "num=int(num_str)\n",
        "for i in range(1,num+1):\n",
        "  for j in range(1,num+1):\n",
        "    product=i*j\n",
        "    print(f\"{i}x{j}={product}\")\n",
        "print()"
      ]
    },
    {
      "cell_type": "code",
      "source": [
        "import random\n",
        "target_number = random.randint(1, 100)\n",
        "print(\"歡迎參加猜數字遊戲！\")\n",
        "num_str=input(\"請輸入要猜的數字:\")\n",
        "num=int(num_str)\n",
        "\n",
        "while(num!=target_number):\n",
        "  if(num>target_number):\n",
        "    print(\"too large\")\n",
        "    num_str=input(\"請再猜一次:\")\n",
        "    num=int(num_str)\n",
        "  elif(num<target_number):\n",
        "    print(\"too small\")\n",
        "    num_str=input(\"請再猜一次:\")\n",
        "    num=int(num_str)\n",
        "print(\"equal\")\n",
        "print(f\"恭喜答對！答案就是{target_number}\")\n"
      ],
      "metadata": {
        "colab": {
          "base_uri": "https://localhost:8080/"
        },
        "id": "IRrzOgBPCVRi",
        "outputId": "49200e1c-d7e8-4820-b867-714d8a43e6d8"
      },
      "execution_count": null,
      "outputs": [
        {
          "output_type": "stream",
          "name": "stdout",
          "text": [
            "歡迎參加猜數字遊戲！\n"
          ]
        }
      ]
    },
    {
      "cell_type": "code",
      "source": [],
      "metadata": {
        "id": "YFShCo3UCZ8p"
      },
      "execution_count": null,
      "outputs": []
    }
  ]
}